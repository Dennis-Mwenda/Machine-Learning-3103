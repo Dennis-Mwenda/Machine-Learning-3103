{
 "cells": [
  {
   "cell_type": "code",
   "execution_count": 3,
   "id": "948f7dcd-d9ae-4dcb-a573-ec02208414f4",
   "metadata": {},
   "outputs": [],
   "source": [
    "import os\n",
    "import chess.pgn\n",
    "import pandas as pd\n",
    "\n"
   ]
  },
  {
   "cell_type": "code",
   "execution_count": 11,
   "id": "20079696-dd1d-4122-b312-3c420f9a7c2d",
   "metadata": {},
   "outputs": [],
   "source": [
    "#Opening the folder with the pgn files\n",
    "database_folder = \"./Lichess Elite Database\""
   ]
  },
  {
   "cell_type": "code",
   "execution_count": null,
   "id": "b4f32988-7e88-43b2-9136-f2fdc2feb5a3",
   "metadata": {},
   "outputs": [
    {
     "name": "stdout",
     "output_type": "stream",
     "text": [
      "Processing ./Lichess Elite Database/lichess_elite_2016-08.pgn...\n",
      "Processing ./Lichess Elite Database/lichess_elite_2017-07.pgn...\n",
      "Processing ./Lichess Elite Database/lichess_elite_2017-12.pgn...\n",
      "Processing ./Lichess Elite Database/lichess_elite_2017-08.pgn...\n",
      "Processing ./Lichess Elite Database/lichess_elite_2017-03.pgn...\n",
      "Processing ./Lichess Elite Database/lichess_elite_2014-11.pgn...\n",
      "Processing ./Lichess Elite Database/lichess_elite_2018-03.pgn...\n",
      "Processing ./Lichess Elite Database/lichess_elite_2019-01.pgn...\n",
      "Processing ./Lichess Elite Database/lichess_elite_2014-05.pgn...\n",
      "Processing ./Lichess Elite Database/lichess_elite_2014-01.pgn...\n",
      "Processing ./Lichess Elite Database/lichess_elite_2015-08.pgn...\n",
      "Processing ./Lichess Elite Database/lichess_elite_2017-09.pgn...\n",
      "Processing ./Lichess Elite Database/lichess_elite_2017-04.pgn...\n",
      "Processing ./Lichess Elite Database/lichess_elite_2016-01.pgn...\n",
      "Processing ./Lichess Elite Database/lichess_elite_2015-05.pgn...\n",
      "Processing ./Lichess Elite Database/lichess_elite_2014-06.pgn...\n",
      "Processing ./Lichess Elite Database/lichess_elite_2020-05.pgn...\n"
     ]
    }
   ],
   "source": [
    "games_data = []\n",
    "for filename in os.listdir(database_folder):\n",
    "    if filename.endswith(\".pgn\"):\n",
    "        pgn_path = os.path.join(database_folder , filename)\n",
    "        print(f\"Processing {pgn_path}...\")\n",
    "        with open (pgn_path) as pgn:\n",
    "            while True:\n",
    "                game = chess.pgn.read_game(pgn)\n",
    "                if game is None:\n",
    "                    break\n",
    "\n",
    "                moves = [move.uci() for move in game.mainline_moves()]\n",
    "                result = game.headers.get(\"Result\",\"Unknown\")\n",
    "                white_elo = game.headers.get(\"WhiteElo\", \"Unknown\")\n",
    "                black_elo = game.headers.get(\"BlackElo\", \"Unknown\")\n",
    "                games_data.append({\n",
    "                    \"moves\":\"\".join(moves),\n",
    "                    \"result\": result,\n",
    "                    \"white_elo\": white_elo,\n",
    "                    \"black_elo\": black_elo\n",
    "                })\n",
    "#converting to dataframe\n",
    "df = pd.DataFrame(games_data)\n",
    "print(df.head())\n"
   ]
  },
  {
   "cell_type": "code",
   "execution_count": null,
   "id": "09408b4b-9f72-4b33-8956-1f0bd6be7560",
   "metadata": {},
   "outputs": [],
   "source": []
  }
 ],
 "metadata": {
  "kernelspec": {
   "display_name": "Python [conda env:anaconda3] *",
   "language": "python",
   "name": "conda-env-anaconda3-py"
  },
  "language_info": {
   "codemirror_mode": {
    "name": "ipython",
    "version": 3
   },
   "file_extension": ".py",
   "mimetype": "text/x-python",
   "name": "python",
   "nbconvert_exporter": "python",
   "pygments_lexer": "ipython3",
   "version": "3.12.7"
  }
 },
 "nbformat": 4,
 "nbformat_minor": 5
}
