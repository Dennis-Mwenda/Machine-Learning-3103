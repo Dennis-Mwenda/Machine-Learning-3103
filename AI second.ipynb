{
 "cells": [
  {
   "cell_type": "code",
   "execution_count": 1,
   "id": "b38b7322-9878-4f83-afb9-fe73f9c4937d",
   "metadata": {},
   "outputs": [
    {
     "name": "stdout",
     "output_type": "stream",
     "text": [
      "Processing ./Lichess Elite Database\\lichess_elite_2013-09.pgn...\n",
      "Processing ./Lichess Elite Database\\lichess_elite_2013-11.pgn...\n",
      "Processing ./Lichess Elite Database\\lichess_elite_2014-01.pgn...\n",
      "Processing ./Lichess Elite Database\\lichess_elite_2014-02.pgn...\n",
      "Processing ./Lichess Elite Database\\lichess_elite_2014-03.pgn...\n",
      "Processing ./Lichess Elite Database\\lichess_elite_2014-04.pgn...\n",
      "Processing ./Lichess Elite Database\\lichess_elite_2014-05.pgn...\n",
      "Processing ./Lichess Elite Database\\lichess_elite_2014-06.pgn...\n",
      "Processing ./Lichess Elite Database\\lichess_elite_2014-07.pgn...\n",
      "Processing ./Lichess Elite Database\\lichess_elite_2014-08.pgn...\n",
      "Processing ./Lichess Elite Database\\lichess_elite_2014-09.pgn...\n",
      "Processing ./Lichess Elite Database\\lichess_elite_2014-10.pgn...\n",
      "Processing ./Lichess Elite Database\\lichess_elite_2014-11.pgn...\n",
      "Processing ./Lichess Elite Database\\lichess_elite_2014-12.pgn...\n",
      "Processing ./Lichess Elite Database\\lichess_elite_2015-01.pgn...\n",
      "Processing ./Lichess Elite Database\\lichess_elite_2015-02.pgn...\n",
      "Processing ./Lichess Elite Database\\lichess_elite_2015-03.pgn...\n",
      "Processing ./Lichess Elite Database\\lichess_elite_2015-04.pgn...\n",
      "Processing ./Lichess Elite Database\\lichess_elite_2015-05.pgn...\n",
      "Processing ./Lichess Elite Database\\lichess_elite_2015-06.pgn...\n",
      "Processing ./Lichess Elite Database\\lichess_elite_2015-07.pgn...\n",
      "Processing ./Lichess Elite Database\\lichess_elite_2015-08.pgn...\n",
      "Processing ./Lichess Elite Database\\lichess_elite_2015-09.pgn...\n",
      "Processing ./Lichess Elite Database\\lichess_elite_2015-10.pgn...\n",
      "                                               moves result white_elo  \\\n",
      "0  e2e4d7d5e4d5d8d5b1c3d5a5d2d4c7c6g1f3g8f6f1c4c8...    1-0      2471   \n",
      "1  d2d4d7d5b1c3g8f6c1g5b8d7a2a3h7h6g5h4c7c6h2h3e7...    0-1      2217   \n",
      "2  d2d4d7d5b1c3g8f6c1g5b8d7g1f3g7g6d1d2f6e4c3e4d5...    0-1      2205   \n",
      "3  e2e4d7d5e4d5d8d5b1c3d5a5d2d4c7c6g1f3g8f6c1d2a5...    1-0      2484   \n",
      "4  g1f3g8f6g2g3d7d5f1g2c8g4e1g1b8d7b2b3e7e5c1b2f8...    0-1      2246   \n",
      "\n",
      "  black_elo  \n",
      "0      2211  \n",
      "1      2464  \n",
      "2      2478  \n",
      "3      2200  \n",
      "4      2490  \n"
     ]
    }
   ],
   "source": [
    "import os\n",
    "import chess.pgn\n",
    "import pandas as pd\n",
    "#Opening the folder with the pgn files\n",
    "database_folder = \"./Lichess Elite Database\"\n",
    "games_data = []\n",
    "for filename in os.listdir(database_folder):\n",
    "    if filename.endswith(\".pgn\"):\n",
    "        pgn_path = os.path.join(database_folder , filename)\n",
    "        print(f\"Processing {pgn_path}...\")\n",
    "        with open (pgn_path) as pgn:\n",
    "            while True:\n",
    "                game = chess.pgn.read_game(pgn)\n",
    "                if game is None:\n",
    "                    break\n",
    "\n",
    "                moves = [move.uci() for move in game.mainline_moves()]\n",
    "                result = game.headers.get(\"Result\",\"Unknown\")\n",
    "                white_elo = game.headers.get(\"WhiteElo\", \"Unknown\")\n",
    "                black_elo = game.headers.get(\"BlackElo\", \"Unknown\")\n",
    "                games_data.append({\n",
    "                    \"moves\":\"\".join(moves),\n",
    "                    \"result\": result,\n",
    "                    \"white_elo\": white_elo,\n",
    "                    \"black_elo\": black_elo\n",
    "                })\n",
    "#converting to dataframe\n",
    "df = pd.DataFrame(games_data)\n",
    "print(df.head())"
   ]
  },
  {
   "cell_type": "code",
   "execution_count": null,
   "id": "25faae59-c9fd-4175-b0d8-8de2ec27e1ac",
   "metadata": {},
   "outputs": [],
   "source": []
  }
 ],
 "metadata": {
  "kernelspec": {
   "display_name": "Python [conda env:base] *",
   "language": "python",
   "name": "conda-base-py"
  },
  "language_info": {
   "codemirror_mode": {
    "name": "ipython",
    "version": 3
   },
   "file_extension": ".py",
   "mimetype": "text/x-python",
   "name": "python",
   "nbconvert_exporter": "python",
   "pygments_lexer": "ipython3",
   "version": "3.12.7"
  }
 },
 "nbformat": 4,
 "nbformat_minor": 5
}
